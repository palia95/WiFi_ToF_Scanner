{
 "cells": [
  {
   "cell_type": "code",
   "execution_count": 5,
   "metadata": {},
   "outputs": [
    {
     "name": "stdout",
     "output_type": "stream",
     "text": [
      "WiFi data\n",
      "AVG RSSI at 1 meter -26.317596566523605\n",
      "VARIANCE RSSI at 1 meter 0.2946144261387234\n",
      "MAX RSSI at 1 meter -25.0\n",
      "MIN RSSI at 1 meter -27.0\n",
      "AVG EST_DIST at 1 meter 54.307939914163086\n",
      "VARIANCE EST_DIST at 1 meter 7.952822003784209\n",
      "MAX EST_DIST at 1 meter 55.0\n",
      "MIN EST_DIST at 1 meter 52.8\n",
      "Suggested calibration:  53.31\n",
      "****************************************\n",
      "LoRa data\n",
      "AVG RSSI at 1 meter -60.054794520547944\n",
      "VARIANCE RSSI at 1 meter 40.60806697108066\n",
      "MAX RSSI at 1 meter -55\n",
      "MIN RSSI at 1 meter -112\n",
      "AVG EST_DIST at 1 meter 58.804060482054794\n",
      "VARIANCE EST_DIST at 1 meter 33200.75286959633\n",
      "MAX EST_DIST at 1 meter 1454.5448\n",
      "MIN EST_DIST at 1 meter 10.07361794\n",
      "Suggested calibration:  57.8\n"
     ]
    }
   ],
   "source": [
    "import pandas as pd\n",
    "import numpy as np\n",
    "\n",
    "DF = pd.read_csv('WiFi/wifigarden.csv') \n",
    "DF1 =  pd.read_csv('Lora/loracalib.csv') \n",
    "\n",
    "B1 = DF['SSID']=='FTM_4'\n",
    "DF = DF[B1]\n",
    "\n",
    "print(\"WiFi data\")\n",
    "print(\"AVG RSSI at 1 meter\", DF['RSSI'].mean())\n",
    "print(\"VARIANCE RSSI at 1 meter\", DF['RSSI'].var())\n",
    "print(\"MAX RSSI at 1 meter\", DF['RSSI'].max())\n",
    "print(\"MIN RSSI at 1 meter\", DF['RSSI'].min())\n",
    "\n",
    "print(\"AVG EST_DIST at 1 meter\", DF['DIST'].mean()/100)\n",
    "print(\"VARIANCE EST_DIST at 1 meter\", DF['DIST'].var()/100)\n",
    "print(\"MAX EST_DIST at 1 meter\", DF['DIST'].max()/100)\n",
    "print(\"MIN EST_DIST at 1 meter\", DF['DIST'].min()/100)\n",
    "\n",
    "calib = DF['DIST'].mean()/100 - 1\n",
    "print(\"Suggested calibration: \", round(calib,2))\n",
    "Calib_offset = 52.46368015 #175ns covered distance\n",
    "print('****************************************')\n",
    "print(\"LoRa data\")\n",
    "print(\"AVG RSSI at 1 meter\", DF1['RSSI'].mean())\n",
    "print(\"VARIANCE RSSI at 1 meter\", DF1['RSSI'].var())\n",
    "print(\"MAX RSSI at 1 meter\", DF1['RSSI'].max())\n",
    "print(\"MIN RSSI at 1 meter\", DF1['RSSI'].min())\n",
    "\n",
    "print(\"AVG EST_DIST at 1 meter\", DF1['DIST'].mean())\n",
    "print(\"VARIANCE EST_DIST at 1 meter\", DF1['DIST'].var())\n",
    "print(\"MAX EST_DIST at 1 meter\", DF1['DIST'].max())\n",
    "print(\"MIN EST_DIST at 1 meter\", DF1['DIST'].min())\n",
    "\n",
    "calib = DF1['DIST'].mean() - 1\n",
    "print(\"Suggested calibration: \", round(calib,2))\n",
    "Calib_offset = 52.46368015 #175ns covered distance"
   ]
  },
  {
   "cell_type": "code",
   "execution_count": 61,
   "metadata": {},
   "outputs": [],
   "source": [
    "def estimate_distance(power_received, params=None):\n",
    "    \"\"\"This function returns an estimated distance range\n",
    "       given a single radio signal strength (RSS) reading\n",
    "       (received power measurement) in dBm.\n",
    "    Parameters:\n",
    "        power_received (float): RSS reading in dBm\n",
    "        params (4-tuple float): (d_ref, power_ref, path_loss_exp, stdev_power)\n",
    "            d_ref is the reference distance in m\n",
    "            power_ref is the received power at the reference distance\n",
    "            path_loss_exp is the path loss exponent\n",
    "            stdev_power is standard deviation of received Power in dB\n",
    "    Returns:\n",
    "        (d_est, d_min, d_max): a 3-tuple of float values containing\n",
    "            the estimated distance, as well as the minimum and maximum\n",
    "            distance estimates corresponding to the uncertainty in RSS,\n",
    "            respectively, in meters rounded to two decimal points\n",
    "    \"\"\"\n",
    "\n",
    "    if params is None:\n",
    "        params = (1.0, -32.1, 4, np.sqrt(0.4))\n",
    "          # the above values are arbitrarily chosen \"default values\"\n",
    "          # should be changed based on measurements\n",
    "\n",
    "    d_ref = params[0] # reference distance\n",
    "    power_ref = params[1] # mean received power at reference distance\n",
    "    path_loss_exp = params[2] # path loss exponent\n",
    "    stdev_power = params[3] # standard deviation of received power\n",
    "\n",
    "    uncertainty = 2*stdev_power # uncertainty in RSS corresponding to 95.45% confidence\n",
    "\n",
    "    d_est = d_ref*(10**(-(power_received - power_ref)/(10*path_loss_exp)))\n",
    "    d_min = d_ref*(10**(-(power_received - power_ref + uncertainty)/(10*path_loss_exp)))\n",
    "    d_max = d_ref*(10**(-(power_received - power_ref - uncertainty)/(10*path_loss_exp)))\n",
    "\n",
    "    return (np.round(d_est,2), np.round(d_min,2), np.round(d_max,2))"
   ]
  },
  {
   "cell_type": "code",
   "execution_count": 67,
   "metadata": {},
   "outputs": [
    {
     "name": "stdout",
     "output_type": "stream",
     "text": [
      "(1.58, 1.47, 1.69)\n",
      "(1.49, 1.38, 1.6)\n",
      "(1.67, 1.55, 1.8)\n"
     ]
    }
   ],
   "source": [
    "print(estimate_distance(-40))\n",
    "print(estimate_distance(-39))\n",
    "print(estimate_distance(-41))"
   ]
  },
  {
   "cell_type": "code",
   "execution_count": 51,
   "metadata": {},
   "outputs": [],
   "source": [
    "estimate_distance(-46)\n",
    "\n",
    "import localization as lx\n",
    "\n",
    "#Trilateration\n",
    "P=lx.Project(mode='3D',solver='LSE_')\n",
    "#Anchors\n",
    "P.add_anchor('FTM_1',(-21,30,0))\n",
    "P.add_anchor('FTM_2',(-212,30,0))\n",
    "P.add_anchor('FTM_3',(-19,222,0))\n",
    "#Gateway\n",
    "t,label=P.add_target()\n",
    "\n"
   ]
  },
  {
   "cell_type": "code",
   "execution_count": 44,
   "metadata": {},
   "outputs": [
    {
     "name": "stdout",
     "output_type": "stream",
     "text": [
      "LSE Geolocating...\n",
      "p(-8.040012609157138,-182.5190088486153,0.0)\n"
     ]
    }
   ],
   "source": [
    "t.add_measure('FTM_1',5560-5336)\n",
    "t.add_measure('FTM_2',5630-5336)\n",
    "t.add_measure('FTM_3',5730-5336)\n",
    "\n",
    "P.solve()\n",
    "\n",
    "# Then the target location is:\n",
    "\n",
    "print(t.loc)"
   ]
  },
  {
   "cell_type": "code",
   "execution_count": 68,
   "metadata": {},
   "outputs": [
    {
     "name": "stdout",
     "output_type": "stream",
     "text": [
      "LSE Geolocating...\n",
      "p(-144.03753513236472,141.81000531813754,0.0)\n"
     ]
    }
   ],
   "source": [
    "#Trilateration\n",
    "P=lx.Project(mode='3D',solver='LSE')\n",
    "#Anchors\n",
    "P.add_anchor('FTM_1',(-21,30,0))\n",
    "P.add_anchor('FTM_2',(-212,30,0))\n",
    "P.add_anchor('FTM_3',(-19,222,0))\n",
    "#Gateway\n",
    "t,label=P.add_target()\n",
    "\n",
    "t.add_measure('FTM_1',estimate_distance(-40)[0]*100)\n",
    "t.add_measure('FTM_2',estimate_distance(-39)[0]*100)\n",
    "t.add_measure('FTM_3',estimate_distance(-41)[0]*100)\n",
    "\n",
    "P.solve()\n",
    "\n",
    "# Then the target location is:\n",
    "\n",
    "print(t.loc)"
   ]
  }
 ],
 "metadata": {
  "kernelspec": {
   "display_name": "base",
   "language": "python",
   "name": "python3"
  },
  "language_info": {
   "codemirror_mode": {
    "name": "ipython",
    "version": 3
   },
   "file_extension": ".py",
   "mimetype": "text/x-python",
   "name": "python",
   "nbconvert_exporter": "python",
   "pygments_lexer": "ipython3",
   "version": "3.8.12"
  },
  "orig_nbformat": 4
 },
 "nbformat": 4,
 "nbformat_minor": 2
}
